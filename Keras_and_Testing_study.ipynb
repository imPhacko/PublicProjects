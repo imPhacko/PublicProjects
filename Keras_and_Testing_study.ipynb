{
  "nbformat": 4,
  "nbformat_minor": 0,
  "metadata": {
    "colab": {
      "provenance": [],
      "include_colab_link": true
    },
    "kernelspec": {
      "name": "python3",
      "display_name": "Python 3"
    }
  },
  "cells": [
    {
      "cell_type": "markdown",
      "metadata": {
        "id": "view-in-github",
        "colab_type": "text"
      },
      "source": [
        "<a href=\"https://colab.research.google.com/github/imPhacko/PublicProjects/blob/main/Keras_and_Testing_study.ipynb\" target=\"_parent\"><img src=\"https://colab.research.google.com/assets/colab-badge.svg\" alt=\"Open In Colab\"/></a>"
      ]
    },
    {
      "cell_type": "markdown",
      "source": [
        "# Training, validation, testing\n",
        "\n",
        "Evaluating a model's performance on its training dataset produces a biased result. The way a model performs on the data which was used to tune its parameters does not necesserily match how it'll perform on new, unseen data points. To evaluate a model accurately a separate dataset is needed. If all we have is a single dataset this can be achieved by randomly splitting the available data into training and testing subsets. Commonly used split proportions include 70-30, 80-20, 90-10 and many others.\n",
        "\n",
        "However, the more we test on our testing dataset the more biased these results become as well. This is especially important when selecting hyperparameters (such as learning rate, number of epochs, number of neurons, number of layers, etc.), as hyperparameter selection requires evaluating the results of each model as accurately as possible. To mitigate this a third dataset is often used called the validation dataset. Commonly used split proportions for training-validation-testing subsets include 60-20-20, 70-20-10 and many others.\n",
        "\n",
        "The ideal model creation loop should look like this:\n",
        "\n",
        "1. Select model hyperparameters\n",
        "2. Train on the training dataset\n",
        "3. Validate on the validation dataset\n",
        "4. Repeat steps 1 to 3 until results are satisfactory\n",
        "5. Test once on the testing dataset (and obtain final performance metrics of the model)"
      ],
      "metadata": {
        "id": "tY-Y6BDlDyIt"
      }
    },
    {
      "cell_type": "code",
      "metadata": {
        "colab": {
          "base_uri": "https://localhost:8080/",
          "height": 314
        },
        "id": "awW_xc4rzVqP",
        "outputId": "6b08a3b1-7bf9-4143-8589-842bf5c79d2d"
      },
      "source": [
        "import pandas as pd\n",
        "import matplotlib.pyplot as plt\n",
        "\n",
        "data = pd.read_csv(\"/content/drive/MyDrive/datasets/wine.csv\")\n",
        "\n",
        "data = data[data[\"Wine\"] != 1]\n",
        "\n",
        "wine1 = data[data[\"Wine\"] == 2]\n",
        "wine2 = data[data[\"Wine\"] == 3]\n",
        "input_attributes = [\"Color.int\", \"Ash\"]\n",
        "\n",
        "plt.scatter(wine1[\"Color.int\"], wine1[\"Ash\"], label=\"Wine 1\")\n",
        "plt.scatter(wine2[\"Color.int\"], wine2[\"Ash\"], label=\"Wine 2\")\n",
        "plt.title(\"Two types of wine\")\n",
        "\n",
        "plt.xlabel(\"Color.int\")\n",
        "plt.ylabel(\"Ash\")\n",
        "plt.legend()"
      ],
      "execution_count": null,
      "outputs": [
        {
          "output_type": "execute_result",
          "data": {
            "text/plain": [
              "<matplotlib.legend.Legend at 0x7f9f9d2f8810>"
            ]
          },
          "metadata": {},
          "execution_count": 1
        },
        {
          "output_type": "display_data",
          "data": {
            "image/png": "[encoded data removed]",
            "text/plain": [
              "<Figure size 432x288 with 1 Axes>"
            ]
          },
          "metadata": {
            "needs_background": "light"
          }
        }
      ]
    },
    {
      "cell_type": "code",
      "source": [
        "import numpy as np\n",
        "# Let's convert these tables to something that could be fed to our model\n",
        "# What we're looking for is an array with our dependent variables (bias, Alcohol and Hue)\n",
        "# And an array with our expected predictions (either 0 or 1) indicating which category out\n",
        "# of the 2 the wine belongs to\n",
        "\n",
        "total_samples = len(wine1) + len(wine2)\n",
        "X_train = np.ones((total_samples, 2), dtype=np.float32) # First column for Alcohol and second for Hue\n",
        "X_train[:len(wine1)] = wine1[input_attributes].to_numpy()\n",
        "X_train[len(wine1):] = wine2[input_attributes].to_numpy()\n",
        "\n",
        "y_train = np.zeros((total_samples, 1), dtype=np.float32) # Just one column which will be either 0 or 1\n",
        "y_train[len(wine1):] = 1\n",
        "\n",
        "print(f\"X_train shape: {X_train.shape}, y_train shape: {y_train.shape}\")\n",
        "\n",
        "mean = np.mean(X_train, axis=0)\n",
        "stddev = np.std(X_train, axis=0)\n",
        "\n",
        "X_train = (X_train - mean) / stddev"
      ],
      "metadata": {
        "colab": {
          "base_uri": "https://localhost:8080/"
        },
        "id": "KgwQBamlfHkx",
        "outputId": "a9d46b11-7b80-4a14-b4f9-9ef66c788ce9"
      },
      "execution_count": null,
      "outputs": [
        {
          "output_type": "stream",
          "name": "stdout",
          "text": [
            "X_train shape: (119, 2), y_train shape: (119, 1)\n"
          ]
        }
      ]
    },
    {
      "cell_type": "code",
      "metadata": {
        "colab": {
          "base_uri": "https://localhost:8080/"
        },
        "id": "_EWqebGs0M_2",
        "outputId": "ae823ac3-c2f4-4510-c6c5-f8addd520124"
      },
      "source": [
        "import tensorflow as tf\n",
        "\n",
        "model = tf.keras.Sequential([\n",
        "    tf.keras.layers.Dense(32, activation=\"tanh\"),\n",
        "    tf.keras.layers.Dense(32, activation=\"tanh\"),\n",
        "    tf.keras.layers.Dense(32, activation=\"tanh\"),\n",
        "    tf.keras.layers.Dense(32, activation=\"tanh\"),\n",
        "    tf.keras.layers.Dense(1, activation=\"sigmoid\")\n",
        "])\n",
        "\n",
        "optimizer = tf.keras.optimizers.SGD(learning_rate=0.1)\n",
        "\n",
        "model.compile(\n",
        "    optimizer=optimizer,\n",
        "    loss=tf.keras.losses.binary_crossentropy,\n",
        "    metrics=[\"accuracy\"]\n",
        ")\n",
        "\n",
        "model.fit(X_train, y_train, epochs=5000, batch_size=64, verbose=0)\n",
        "loss, accuracy = model.evaluate(X_train, y_train, verbose=2)\n",
        "print(f\"Accuracy: {accuracy:.4f}\")"
      ],
      "execution_count": null,
      "outputs": [
        {
          "output_type": "stream",
          "name": "stdout",
          "text": [
            "4/4 - 0s - loss: 5.6731e-04 - accuracy: 1.0000 - 145ms/epoch - 36ms/step\n",
            "Accuracy: 1.0000\n"
          ]
        }
      ]
    },
    {
      "cell_type": "code",
      "metadata": {
        "id": "XPdXfkwQ0rlU"
      },
      "source": [
        "xx, yy = np.mgrid[0:14:0.05, 0:4:0.005]\n",
        "grid = (np.c_[xx.ravel(), yy.ravel()] - mean) / stddev\n",
        "probs = model.predict(grid).T.reshape(xx.shape)"
      ],
      "execution_count": null,
      "outputs": []
    },
    {
      "cell_type": "code",
      "metadata": {
        "colab": {
          "base_uri": "https://localhost:8080/",
          "height": 404
        },
        "id": "U5RWggfg0soL",
        "outputId": "c77de642-39cd-4d7f-e47a-aa4a05cf66ab"
      },
      "source": [
        "contour = plt.contourf(xx, yy, probs, 25, cmap=\"gray\", vmin=0, vmax=1)\n",
        "\n",
        "plt.scatter(wine1[\"Color.int\"], wine1[\"Ash\"], label=\"Wine 1\")\n",
        "plt.scatter(wine2[\"Color.int\"], wine2[\"Ash\"], label=\"Wine 2\")\n",
        "plt.title(\"Two types of wine\")\n",
        "\n",
        "plt.xlabel(\"Color.int\")\n",
        "plt.ylabel(\"Ash\")\n",
        "plt.legend()\n",
        "\n",
        "fig = plt.gcf()\n",
        "fig.set_size_inches(8, 6)"
      ],
      "execution_count": null,
      "outputs": [
        {
          "output_type": "display_data",
          "data": {
            "image/png": "[encoded data removed]",
            "text/plain": [
              "<Figure size 576x432 with 1 Axes>"
            ]
          },
          "metadata": {
            "needs_background": "light"
          }
        }
      ]
    },
    {
      "cell_type": "code",
      "metadata": {
        "id": "d__u8FBf2dNm"
      },
      "source": [
        "import numpy as np\n",
        "\n",
        "# Convert pandas frames to numpy arrays\n",
        "total_samples = len(wine1) + len(wine2)\n",
        "X_data = np.ones((total_samples, 2), dtype=np.float32) # First column for Alcohol and second for Hue\n",
        "X_data[:len(wine1)] = wine1[input_attributes].to_numpy()\n",
        "X_data[len(wine1):] = wine2[input_attributes].to_numpy()\n",
        "\n",
        "y_data = np.zeros((total_samples, 1), dtype=np.float32) # Just one column which will be either 0 or 1\n",
        "y_data[len(wine1):] = 1\n",
        "\n",
        "# Shuffle the indices of our dataset\n",
        "rng = np.random.RandomState(0)\n",
        "indices = np.arange(len(X_data))\n",
        "rng.shuffle(indices)\n",
        "\n",
        "# Split the indices into two parts, 70% for training and 30% for testing\n",
        "test_fraction = 0.3\n",
        "test_count = int(len(indices) * test_fraction)\n",
        "train_indices = indices[test_count:]\n",
        "test_indices = indices[:test_count]\n",
        "\n",
        "# Create the two datasets (training and testing) using our shuffled indices\n",
        "X_train = X_data[train_indices]\n",
        "y_train = y_data[train_indices]\n",
        "X_test = X_data[test_indices]\n",
        "y_test = y_data[test_indices]\n",
        "\n",
        "# Normalize data to have mean = 0 and stddev = 1\n",
        "mean = np.mean(X_train, axis=0)\n",
        "stddev = np.std(X_train, axis=0)\n",
        "\n",
        "X_train = (X_train - mean) / stddev\n",
        "X_test = (X_test - mean) / stddev"
      ],
      "execution_count": null,
      "outputs": []
    },
    {
      "cell_type": "code",
      "metadata": {
        "colab": {
          "base_uri": "https://localhost:8080/"
        },
        "id": "NN6MNNt-2jvN",
        "outputId": "8b3a6b2d-e997-4bfb-8a98-dfee87af8eae"
      },
      "source": [
        "import tensorflow as tf\n",
        "\n",
        "# Create a Keras model: a sequence of layers. Dense means that each neuron\n",
        "# in the layer is connected to every neuron in the previous layer.\n",
        "# Since we have only 2 classes that are modeled with one neuron, we can\n",
        "# use the sigmoid activation function.\n",
        "model = tf.keras.Sequential([\n",
        "    tf.keras.layers.Dense(32, activation=\"tanh\", input_shape=(2,)),\n",
        "    tf.keras.layers.Dense(32, activation=\"tanh\"),\n",
        "    tf.keras.layers.Dense(1, activation=\"sigmoid\")\n",
        "])\n",
        "model.summary()"
      ],
      "execution_count": null,
      "outputs": [
        {
          "output_type": "stream",
          "name": "stdout",
          "text": [
            "Model: \"sequential_1\"\n",
            "_________________________________________________________________\n",
            " Layer (type)                Output Shape              Param #   \n",
            "=================================================================\n",
            " dense_5 (Dense)             (None, 32)                96        \n",
            "                                                                 \n",
            " dense_6 (Dense)             (None, 32)                1056      \n",
            "                                                                 \n",
            " dense_7 (Dense)             (None, 1)                 33        \n",
            "                                                                 \n",
            "=================================================================\n",
            "Total params: 1,185\n",
            "Trainable params: 1,185\n",
            "Non-trainable params: 0\n",
            "_________________________________________________________________\n"
          ]
        }
      ]
    },
    {
      "cell_type": "code",
      "metadata": {
        "colab": {
          "base_uri": "https://localhost:8080/"
        },
        "id": "5rF4rIQ02q2t",
        "outputId": "4c755ff4-fdb8-4ed6-f938-08b94635eb01"
      },
      "source": [
        "# Create the Stochastic Gradient Descent optimizer\n",
        "optimizer = tf.keras.optimizers.SGD(learning_rate=0.1)\n",
        "# Prepare the model for training with our SGD optimizer and\n",
        "# the binary cross entropy loss, as it pairs well with the sigmoid\n",
        "# activation function.\n",
        "model.compile(\n",
        "    optimizer=optimizer,\n",
        "    loss=tf.keras.losses.binary_crossentropy,\n",
        "    metrics=[\"accuracy\"]\n",
        ")\n",
        "\n",
        "# Perform 5000 epochs (passes over the data) of training, updating our weights\n",
        "# with batches of 64 data samples.\n",
        "model.fit(X_train, y_train, epochs=5000, batch_size=64, verbose=0)\n",
        "\n",
        "_, accuracy = model.evaluate(X_train, y_train, verbose=0)\n",
        "print(f\"Training accuracy: {accuracy:.4f}\")\n",
        "_, accuracy = model.evaluate(X_test, y_test, verbose=0)\n",
        "print(f\"Testing accuracy: {accuracy:.4f}\")"
      ],
      "execution_count": null,
      "outputs": [
        {
          "output_type": "stream",
          "name": "stdout",
          "text": [
            "Training accuracy: 0.9762\n",
            "Testing accuracy: 0.9714\n"
          ]
        }
      ]
    },
    {
      "cell_type": "code",
      "metadata": {
        "id": "ApSTi5fy2yR7"
      },
      "source": [
        "xx, yy = np.mgrid[0:14:0.1, 0:4:0.01]\n",
        "grid = (np.c_[xx.ravel(), yy.ravel()] - mean) / stddev\n",
        "\n",
        "probabilities = model.predict(grid).T.reshape(xx.shape)"
      ],
      "execution_count": null,
      "outputs": []
    },
    {
      "cell_type": "code",
      "metadata": {
        "colab": {
          "base_uri": "https://localhost:8080/",
          "height": 338
        },
        "id": "6Mixc6KL2yeq",
        "outputId": "d9d787a9-58a3-4a22-e202-491b369d5b0f"
      },
      "source": [
        "plt.contourf(xx, yy, probabilities, 25, cmap=\"gray\", vmin=0.0, vmax=1.0)\n",
        "plt.colorbar()\n",
        "\n",
        "train_wine_table = data.iloc[train_indices]\n",
        "wine1 = train_wine_table[train_wine_table[\"Wine\"] == 2]\n",
        "wine2 = train_wine_table[train_wine_table[\"Wine\"] == 3]\n",
        "plt.scatter(wine1[\"Color.int\"], wine1[\"Ash\"], label=\"Wine 1\", color=\"C0\")\n",
        "plt.scatter(wine2[\"Color.int\"], wine2[\"Ash\"], label=\"Wine 2\", color=\"C1\")\n",
        "\n",
        "test_wine_table = data.iloc[test_indices]\n",
        "wine1 = test_wine_table[test_wine_table[\"Wine\"] == 2]\n",
        "wine2 = test_wine_table[test_wine_table[\"Wine\"] == 3]\n",
        "plt.scatter(wine1[\"Color.int\"], wine1[\"Ash\"], color=\"C0\", facecolors=\"none\", lw=2)\n",
        "plt.scatter(wine2[\"Color.int\"], wine2[\"Ash\"], color=\"C1\", facecolors=\"none\", lw=2)\n",
        "\n",
        "plt.xlim([0.5, 14.0])\n",
        "plt.ylim([1.0, 3.5])\n",
        "plt.xlabel(\"Color.int\")\n",
        "plt.ylabel(\"Ash\")\n",
        "plt.legend()\n",
        "\n",
        "fig = plt.gcf()\n",
        "fig.set_size_inches(8, 5)"
      ],
      "execution_count": null,
      "outputs": [
        {
          "output_type": "display_data",
          "data": {
            "image/png": "[encoded data removed]",
            "text/plain": [
              "<Figure size 576x360 with 2 Axes>"
            ]
          },
          "metadata": {
            "needs_background": "light"
          }
        }
      ]
    },
    {
      "cell_type": "markdown",
      "source": [
        "| Train accuracy | Test accuracy | Learning rate | Layers | Neurons (p.l.) |\n",
        "| -------------- | ------------- | ------------- | ------ | -------------- |\n",
        "| 0.9881         | 0.8286        | 1.0           | 2      | 8              |\n",
        "| 1.0000         | 0.9143        | 1.0           | 4      | 8              |\n",
        "| 1.0000         | 0.9143        | 1.0           | 2      | 32             |\n",
        "| 1.0000         | 0.8857        | 1.0           | 4      | 32             |\n",
        "| 0.9762         | 0.9429        | 0.05          | 2      | 8              |\n",
        "| 0.9762         | 0.9429        | 0.05          | 4      | 8              |\n",
        "| 0.9524         | 0.9429        | 0.05          | 2      | 32             |\n",
        "| 0.9762         | 0.9429        | 0.05          | 4      | 32             |\n",
        "| 0.9167         | *0.9714*      | 0.001         | 2      | 8              |\n",
        "| 0.9286         | 0.9143        | 0.001         | 4      | 8              |\n",
        "| 0.9048         | **1.0000**    | 0.001         | 2      | 32             |\n",
        "| 0.9286         | 0.9429        | 0.001         | 4      | 32             |"
      ],
      "metadata": {
        "id": "X0BVvZL4UBQ0"
      }
    }
  ]
}