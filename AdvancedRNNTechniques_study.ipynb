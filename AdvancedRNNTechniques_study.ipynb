{
  "nbformat": 4,
  "nbformat_minor": 0,
  "metadata": {
    "colab": {
      "provenance": [],
      "machine_shape": "hm",
      "include_colab_link": true
    },
    "kernelspec": {
      "name": "python3",
      "display_name": "Python 3"
    },
    "accelerator": "GPU"
  },
  "cells": [
    {
      "cell_type": "markdown",
      "metadata": {
        "id": "view-in-github",
        "colab_type": "text"
      },
      "source": [
        "<a href=\"https://colab.research.google.com/github/imPhacko/PublicProjects/blob/main/AdvancedRNNTechniques_study.ipynb\" target=\"_parent\"><img src=\"https://colab.research.google.com/assets/colab-badge.svg\" alt=\"Open In Colab\"/></a>"
      ]
    },
    {
      "cell_type": "markdown",
      "metadata": {
        "id": "hXKxo8dFUyzq"
      },
      "source": [
        "# Modelling long-term dependencies\n",
        "\n",
        "https://colah.github.io/posts/2015-08-Understanding-LSTMs/"
      ]
    },
    {
      "cell_type": "code",
      "metadata": {
        "colab": {
          "base_uri": "https://localhost:8080/"
        },
        "id": "oYpLAdc3s06N",
        "outputId": "913da041-d2e6-435a-88fb-3943e4315ee9"
      },
      "source": [
        "from google.colab import drive\n",
        "drive.mount('/content/drive')"
      ],
      "execution_count": null,
      "outputs": [
        {
          "output_type": "stream",
          "name": "stdout",
          "text": [
            "Mounted at /content/drive\n"
          ]
        }
      ]
    },
    {
      "cell_type": "code",
      "metadata": {
        "id": "xXDHjs1A7KYV",
        "colab": {
          "base_uri": "https://localhost:8080/"
        },
        "outputId": "1cc155f2-ef85-466f-ac3c-45aee0b1bcd9"
      },
      "source": [
        "filename = \"/content/drive/MyDrive/2022/Lecture10/metai.txt\"\n",
        "raw_text = open(filename, \"r\", encoding=\"utf-8\").read()\n",
        "raw_text = raw_text.lower()\n",
        "print(raw_text[:200])"
      ],
      "execution_count": null,
      "outputs": [
        {
          "output_type": "stream",
          "name": "stdout",
          "text": [
            "jau saulelė vėl atkopdama budino svietą \n",
            "ir žiemos šaltos trūsus pargriaudama juokės. \n",
            "šalčių pramonės su ledais sugaišti pagavo, \n",
            "ir putodams sniegs visur į nieką pavirto. \n",
            "tuo laukus orai drungni ga\n"
          ]
        }
      ]
    },
    {
      "cell_type": "code",
      "metadata": {
        "id": "ng5VDD06GtR4",
        "colab": {
          "base_uri": "https://localhost:8080/"
        },
        "outputId": "781c4e98-62a4-43a1-fca9-e98aaaf6a489"
      },
      "source": [
        "characters = sorted(list(set(raw_text)))\n",
        "\n",
        "char_to_int = {character: integer for integer, character in enumerate(characters)}\n",
        "\n",
        "for character in characters:\n",
        "    print(f\"{repr(character)}: {char_to_int[character]}\")\n",
        "\n",
        "print(f\"Text length: {len(raw_text)}\")\n",
        "print(f\"Dictionary length: {len(char_to_int)}\")"
      ],
      "execution_count": null,
      "outputs": [
        {
          "output_type": "stream",
          "name": "stdout",
          "text": [
            "'\\n': 0\n",
            "' ': 1\n",
            "'!': 2\n",
            "'\"': 3\n",
            "\"'\": 4\n",
            "'(': 5\n",
            "')': 6\n",
            "',': 7\n",
            "'-': 8\n",
            "'.': 9\n",
            "':': 10\n",
            "';': 11\n",
            "'?': 12\n",
            "'a': 13\n",
            "'b': 14\n",
            "'c': 15\n",
            "'d': 16\n",
            "'e': 17\n",
            "'g': 18\n",
            "'i': 19\n",
            "'j': 20\n",
            "'k': 21\n",
            "'l': 22\n",
            "'m': 23\n",
            "'n': 24\n",
            "'o': 25\n",
            "'p': 26\n",
            "'r': 27\n",
            "'s': 28\n",
            "'t': 29\n",
            "'u': 30\n",
            "'v': 31\n",
            "'y': 32\n",
            "'z': 33\n",
            "'ą': 34\n",
            "'č': 35\n",
            "'ė': 36\n",
            "'ę': 37\n",
            "'į': 38\n",
            "'š': 39\n",
            "'ū': 40\n",
            "'ų': 41\n",
            "'ž': 42\n",
            "Text length: 134183\n",
            "Dictionary length: 43\n"
          ]
        }
      ]
    },
    {
      "cell_type": "code",
      "metadata": {
        "id": "weNEUHTKG3mD"
      },
      "source": [
        "import numpy as np\n",
        "\n",
        "data = np.zeros((len(raw_text), len(char_to_int)))\n",
        "int_data = np.zeros((len(raw_text),), dtype=np.int32)\n",
        "\n",
        "for idx, character in enumerate(raw_text):\n",
        "    data[idx, char_to_int[character]] = 1.0\n",
        "    int_data[idx] = char_to_int[character]"
      ],
      "execution_count": null,
      "outputs": []
    },
    {
      "cell_type": "code",
      "metadata": {
        "id": "Q1w5lyM6G36W",
        "colab": {
          "base_uri": "https://localhost:8080/"
        },
        "outputId": "9d9d0e63-cbde-46c2-ff36-e7cf3f6b9612"
      },
      "source": [
        "int_to_char = {integer: character for integer, character in enumerate(characters)}\n",
        "def onehot_to_character(onehot):\n",
        "    category = np.argmax(onehot)\n",
        "    return int_to_char[category]\n",
        "\n",
        "input_data = int_data[:-1]\n",
        "output_data = data[1:]\n",
        "\n",
        "sequence_length = 128\n",
        "\n",
        "X = []\n",
        "y = []\n",
        "for i in range(0, len(input_data) - sequence_length, sequence_length):\n",
        "    X.append(input_data[i:i + sequence_length])\n",
        "    y.append(output_data[i:i + sequence_length])\n",
        "\n",
        "X = np.asarray(X)\n",
        "y = np.asarray(y)\n",
        "print(X.shape, y.shape)"
      ],
      "execution_count": null,
      "outputs": [
        {
          "output_type": "stream",
          "name": "stdout",
          "text": [
            "(1048, 128) (1048, 128, 43)\n"
          ]
        }
      ]
    },
    {
      "cell_type": "code",
      "metadata": {
        "id": "6fuGQEV3HiCI",
        "colab": {
          "base_uri": "https://localhost:8080/"
        },
        "outputId": "29e9918a-b1bd-4f8f-8e95-8211ff3ab4dc"
      },
      "source": [
        "import tensorflow as tf\n",
        "\n",
        "model = tf.keras.models.Sequential([\n",
        "    tf.keras.layers.Input((None,)),\n",
        "    tf.keras.layers.Embedding(43, 128),\n",
        "    tf.keras.layers.GRU(128, return_sequences=True),\n",
        "    tf.keras.layers.GRU(128, return_sequences=True),\n",
        "    tf.keras.layers.Dense(43, activation=\"softmax\")\n",
        "])\n",
        "\n",
        "model.summary()\n",
        "\n",
        "model.compile(loss=\"categorical_crossentropy\", optimizer=tf.keras.optimizers.Adam(lr=0.01), metrics=[\"accuracy\"])"
      ],
      "execution_count": null,
      "outputs": [
        {
          "output_type": "stream",
          "name": "stdout",
          "text": [
            "Model: \"sequential\"\n",
            "_________________________________________________________________\n",
            " Layer (type)                Output Shape              Param #   \n",
            "=================================================================\n",
            " embedding (Embedding)       (None, None, 128)         5504      \n",
            "                                                                 \n",
            " gru (GRU)                   (None, None, 128)         99072     \n",
            "                                                                 \n",
            " gru_1 (GRU)                 (None, None, 128)         99072     \n",
            "                                                                 \n",
            " dense (Dense)               (None, None, 43)          5547      \n",
            "                                                                 \n",
            "=================================================================\n",
            "Total params: 209,195\n",
            "Trainable params: 209,195\n",
            "Non-trainable params: 0\n",
            "_________________________________________________________________\n"
          ]
        },
        {
          "output_type": "stream",
          "name": "stderr",
          "text": [
            "/usr/local/lib/python3.7/dist-packages/keras/optimizer_v2/adam.py:105: UserWarning: The `lr` argument is deprecated, use `learning_rate` instead.\n",
            "  super(Adam, self).__init__(name, **kwargs)\n"
          ]
        }
      ]
    },
    {
      "cell_type": "code",
      "metadata": {
        "id": "CHMtXxR3Hrqk",
        "colab": {
          "base_uri": "https://localhost:8080/"
        },
        "outputId": "50718133-ba3f-4675-eee0-707b364c1a8a"
      },
      "source": [
        "def step_decay(epoch):\n",
        "    lr = 0.01\n",
        "    if epoch > 20:\n",
        "        lr = 0.001\n",
        "    if epoch > 40:\n",
        "        lr = 0.0005\n",
        "    print(f\"Current learning rate: {lr} at {epoch}\")\n",
        "    return lr\n",
        "\n",
        "model.fit(X, y, epochs=60, batch_size=64, verbose=1, callbacks=[tf.keras.callbacks.LearningRateScheduler(step_decay)])"
      ],
      "execution_count": null,
      "outputs": [
        {
          "output_type": "stream",
          "name": "stdout",
          "text": [
            "Current learning rate: 0.01 at 0\n",
            "Epoch 1/60\n",
            "17/17 [==============================] - 9s 73ms/step - loss: 3.1292 - accuracy: 0.1663 - lr: 0.0100\n",
            "Current learning rate: 0.01 at 1\n",
            "Epoch 2/60\n",
            "17/17 [==============================] - 1s 73ms/step - loss: 2.4767 - accuracy: 0.2849 - lr: 0.0100\n",
            "Current learning rate: 0.01 at 2\n",
            "Epoch 3/60\n",
            "17/17 [==============================] - 1s 72ms/step - loss: 2.1955 - accuracy: 0.3599 - lr: 0.0100\n",
            "Current learning rate: 0.01 at 3\n",
            "Epoch 4/60\n",
            "17/17 [==============================] - 1s 72ms/step - loss: 1.9950 - accuracy: 0.4058 - lr: 0.0100\n",
            "Current learning rate: 0.01 at 4\n",
            "Epoch 5/60\n",
            "17/17 [==============================] - 1s 71ms/step - loss: 1.8455 - accuracy: 0.4416 - lr: 0.0100\n",
            "Current learning rate: 0.01 at 5\n",
            "Epoch 6/60\n",
            "17/17 [==============================] - 1s 71ms/step - loss: 1.7270 - accuracy: 0.4737 - lr: 0.0100\n",
            "Current learning rate: 0.01 at 6\n",
            "Epoch 7/60\n",
            "17/17 [==============================] - 1s 71ms/step - loss: 1.6300 - accuracy: 0.5002 - lr: 0.0100\n",
            "Current learning rate: 0.01 at 7\n",
            "Epoch 8/60\n",
            "17/17 [==============================] - 1s 72ms/step - loss: 1.5536 - accuracy: 0.5222 - lr: 0.0100\n",
            "Current learning rate: 0.01 at 8\n",
            "Epoch 9/60\n",
            "17/17 [==============================] - 1s 72ms/step - loss: 1.4896 - accuracy: 0.5380 - lr: 0.0100\n",
            "Current learning rate: 0.01 at 9\n",
            "Epoch 10/60\n",
            "17/17 [==============================] - 1s 71ms/step - loss: 1.4280 - accuracy: 0.5549 - lr: 0.0100\n",
            "Current learning rate: 0.01 at 10\n",
            "Epoch 11/60\n",
            "17/17 [==============================] - 1s 70ms/step - loss: 1.3760 - accuracy: 0.5695 - lr: 0.0100\n",
            "Current learning rate: 0.01 at 11\n",
            "Epoch 12/60\n",
            "17/17 [==============================] - 1s 70ms/step - loss: 1.3279 - accuracy: 0.5826 - lr: 0.0100\n",
            "Current learning rate: 0.01 at 12\n",
            "Epoch 13/60\n",
            "17/17 [==============================] - 1s 70ms/step - loss: 1.2837 - accuracy: 0.5957 - lr: 0.0100\n",
            "Current learning rate: 0.01 at 13\n",
            "Epoch 14/60\n",
            "17/17 [==============================] - 1s 70ms/step - loss: 1.2499 - accuracy: 0.6033 - lr: 0.0100\n",
            "Current learning rate: 0.01 at 14\n",
            "Epoch 15/60\n",
            "17/17 [==============================] - 1s 71ms/step - loss: 1.2143 - accuracy: 0.6148 - lr: 0.0100\n",
            "Current learning rate: 0.01 at 15\n",
            "Epoch 16/60\n",
            "17/17 [==============================] - 1s 71ms/step - loss: 1.1832 - accuracy: 0.6243 - lr: 0.0100\n",
            "Current learning rate: 0.01 at 16\n",
            "Epoch 17/60\n",
            "17/17 [==============================] - 1s 71ms/step - loss: 1.1538 - accuracy: 0.6324 - lr: 0.0100\n",
            "Current learning rate: 0.01 at 17\n",
            "Epoch 18/60\n",
            "17/17 [==============================] - 1s 70ms/step - loss: 1.1339 - accuracy: 0.6379 - lr: 0.0100\n",
            "Current learning rate: 0.01 at 18\n",
            "Epoch 19/60\n",
            "17/17 [==============================] - 1s 70ms/step - loss: 1.1078 - accuracy: 0.6444 - lr: 0.0100\n",
            "Current learning rate: 0.01 at 19\n",
            "Epoch 20/60\n",
            "17/17 [==============================] - 1s 70ms/step - loss: 1.0822 - accuracy: 0.6534 - lr: 0.0100\n",
            "Current learning rate: 0.01 at 20\n",
            "Epoch 21/60\n",
            "17/17 [==============================] - 1s 71ms/step - loss: 1.0733 - accuracy: 0.6550 - lr: 0.0100\n",
            "Current learning rate: 0.001 at 21\n",
            "Epoch 22/60\n",
            "17/17 [==============================] - 1s 70ms/step - loss: 0.9765 - accuracy: 0.6895 - lr: 0.0010\n",
            "Current learning rate: 0.001 at 22\n",
            "Epoch 23/60\n",
            "17/17 [==============================] - 1s 69ms/step - loss: 0.9064 - accuracy: 0.7160 - lr: 0.0010\n",
            "Current learning rate: 0.001 at 23\n",
            "Epoch 24/60\n",
            "17/17 [==============================] - 1s 69ms/step - loss: 0.8784 - accuracy: 0.7268 - lr: 0.0010\n",
            "Current learning rate: 0.001 at 24\n",
            "Epoch 25/60\n",
            "17/17 [==============================] - 1s 69ms/step - loss: 0.8619 - accuracy: 0.7334 - lr: 0.0010\n",
            "Current learning rate: 0.001 at 25\n",
            "Epoch 26/60\n",
            "17/17 [==============================] - 1s 69ms/step - loss: 0.8496 - accuracy: 0.7375 - lr: 0.0010\n",
            "Current learning rate: 0.001 at 26\n",
            "Epoch 27/60\n",
            "17/17 [==============================] - 1s 70ms/step - loss: 0.8390 - accuracy: 0.7423 - lr: 0.0010\n",
            "Current learning rate: 0.001 at 27\n",
            "Epoch 28/60\n",
            "17/17 [==============================] - 1s 69ms/step - loss: 0.8293 - accuracy: 0.7449 - lr: 0.0010\n",
            "Current learning rate: 0.001 at 28\n",
            "Epoch 29/60\n",
            "17/17 [==============================] - 1s 69ms/step - loss: 0.8207 - accuracy: 0.7488 - lr: 0.0010\n",
            "Current learning rate: 0.001 at 29\n",
            "Epoch 30/60\n",
            "17/17 [==============================] - 1s 68ms/step - loss: 0.8118 - accuracy: 0.7517 - lr: 0.0010\n",
            "Current learning rate: 0.001 at 30\n",
            "Epoch 31/60\n",
            "17/17 [==============================] - 1s 67ms/step - loss: 0.8035 - accuracy: 0.7544 - lr: 0.0010\n",
            "Current learning rate: 0.001 at 31\n",
            "Epoch 32/60\n",
            "17/17 [==============================] - 1s 67ms/step - loss: 0.7958 - accuracy: 0.7574 - lr: 0.0010\n",
            "Current learning rate: 0.001 at 32\n",
            "Epoch 33/60\n",
            "17/17 [==============================] - 1s 68ms/step - loss: 0.7879 - accuracy: 0.7601 - lr: 0.0010\n",
            "Current learning rate: 0.001 at 33\n",
            "Epoch 34/60\n",
            "17/17 [==============================] - 1s 67ms/step - loss: 0.7803 - accuracy: 0.7630 - lr: 0.0010\n",
            "Current learning rate: 0.001 at 34\n",
            "Epoch 35/60\n",
            "17/17 [==============================] - 1s 67ms/step - loss: 0.7726 - accuracy: 0.7654 - lr: 0.0010\n",
            "Current learning rate: 0.001 at 35\n",
            "Epoch 36/60\n",
            "17/17 [==============================] - 1s 68ms/step - loss: 0.7652 - accuracy: 0.7683 - lr: 0.0010\n",
            "Current learning rate: 0.001 at 36\n",
            "Epoch 37/60\n",
            "17/17 [==============================] - 1s 68ms/step - loss: 0.7579 - accuracy: 0.7713 - lr: 0.0010\n",
            "Current learning rate: 0.001 at 37\n",
            "Epoch 38/60\n",
            "17/17 [==============================] - 1s 68ms/step - loss: 0.7509 - accuracy: 0.7738 - lr: 0.0010\n",
            "Current learning rate: 0.001 at 38\n",
            "Epoch 39/60\n",
            "17/17 [==============================] - 1s 68ms/step - loss: 0.7435 - accuracy: 0.7768 - lr: 0.0010\n",
            "Current learning rate: 0.001 at 39\n",
            "Epoch 40/60\n",
            "17/17 [==============================] - 1s 67ms/step - loss: 0.7363 - accuracy: 0.7791 - lr: 0.0010\n",
            "Current learning rate: 0.001 at 40\n",
            "Epoch 41/60\n",
            "17/17 [==============================] - 1s 67ms/step - loss: 0.7288 - accuracy: 0.7813 - lr: 0.0010\n",
            "Current learning rate: 0.0005 at 41\n",
            "Epoch 42/60\n",
            "17/17 [==============================] - 1s 67ms/step - loss: 0.7167 - accuracy: 0.7870 - lr: 5.0000e-04\n",
            "Current learning rate: 0.0005 at 42\n",
            "Epoch 43/60\n",
            "17/17 [==============================] - 1s 67ms/step - loss: 0.7117 - accuracy: 0.7888 - lr: 5.0000e-04\n",
            "Current learning rate: 0.0005 at 43\n",
            "Epoch 44/60\n",
            "17/17 [==============================] - 1s 67ms/step - loss: 0.7076 - accuracy: 0.7905 - lr: 5.0000e-04\n",
            "Current learning rate: 0.0005 at 44\n",
            "Epoch 45/60\n",
            "17/17 [==============================] - 1s 66ms/step - loss: 0.7038 - accuracy: 0.7922 - lr: 5.0000e-04\n",
            "Current learning rate: 0.0005 at 45\n",
            "Epoch 46/60\n",
            "17/17 [==============================] - 1s 66ms/step - loss: 0.6999 - accuracy: 0.7935 - lr: 5.0000e-04\n",
            "Current learning rate: 0.0005 at 46\n",
            "Epoch 47/60\n",
            "17/17 [==============================] - 1s 66ms/step - loss: 0.6961 - accuracy: 0.7946 - lr: 5.0000e-04\n",
            "Current learning rate: 0.0005 at 47\n",
            "Epoch 48/60\n",
            "17/17 [==============================] - 1s 66ms/step - loss: 0.6926 - accuracy: 0.7963 - lr: 5.0000e-04\n",
            "Current learning rate: 0.0005 at 48\n",
            "Epoch 49/60\n",
            "17/17 [==============================] - 1s 66ms/step - loss: 0.6887 - accuracy: 0.7979 - lr: 5.0000e-04\n",
            "Current learning rate: 0.0005 at 49\n",
            "Epoch 50/60\n",
            "17/17 [==============================] - 1s 66ms/step - loss: 0.6854 - accuracy: 0.7986 - lr: 5.0000e-04\n",
            "Current learning rate: 0.0005 at 50\n",
            "Epoch 51/60\n",
            "17/17 [==============================] - 1s 66ms/step - loss: 0.6818 - accuracy: 0.8003 - lr: 5.0000e-04\n",
            "Current learning rate: 0.0005 at 51\n",
            "Epoch 52/60\n",
            "17/17 [==============================] - 1s 66ms/step - loss: 0.6782 - accuracy: 0.8014 - lr: 5.0000e-04\n",
            "Current learning rate: 0.0005 at 52\n",
            "Epoch 53/60\n",
            "17/17 [==============================] - 1s 66ms/step - loss: 0.6744 - accuracy: 0.8035 - lr: 5.0000e-04\n",
            "Current learning rate: 0.0005 at 53\n",
            "Epoch 54/60\n",
            "17/17 [==============================] - 1s 66ms/step - loss: 0.6706 - accuracy: 0.8043 - lr: 5.0000e-04\n",
            "Current learning rate: 0.0005 at 54\n",
            "Epoch 55/60\n",
            "17/17 [==============================] - 1s 66ms/step - loss: 0.6670 - accuracy: 0.8061 - lr: 5.0000e-04\n",
            "Current learning rate: 0.0005 at 55\n",
            "Epoch 56/60\n",
            "17/17 [==============================] - 1s 67ms/step - loss: 0.6635 - accuracy: 0.8074 - lr: 5.0000e-04\n",
            "Current learning rate: 0.0005 at 56\n",
            "Epoch 57/60\n",
            "17/17 [==============================] - 1s 65ms/step - loss: 0.6603 - accuracy: 0.8083 - lr: 5.0000e-04\n",
            "Current learning rate: 0.0005 at 57\n",
            "Epoch 58/60\n",
            "17/17 [==============================] - 1s 66ms/step - loss: 0.6563 - accuracy: 0.8101 - lr: 5.0000e-04\n",
            "Current learning rate: 0.0005 at 58\n",
            "Epoch 59/60\n",
            "17/17 [==============================] - 1s 66ms/step - loss: 0.6528 - accuracy: 0.8113 - lr: 5.0000e-04\n",
            "Current learning rate: 0.0005 at 59\n",
            "Epoch 60/60\n",
            "17/17 [==============================] - 1s 66ms/step - loss: 0.6489 - accuracy: 0.8130 - lr: 5.0000e-04\n"
          ]
        },
        {
          "output_type": "execute_result",
          "data": {
            "text/plain": [
              "<keras.callbacks.History at 0x7f7ff05c4b10>"
            ]
          },
          "metadata": {},
          "execution_count": 7
        }
      ]
    },
    {
      "cell_type": "code",
      "metadata": {
        "id": "I2ztJMisgF-a",
        "colab": {
          "base_uri": "https://localhost:8080/"
        },
        "outputId": "caed6989-08cb-4f03-f099-259b362892c7"
      },
      "source": [
        "for character in characters:\n",
        "    occurances = raw_text.count(character)\n",
        "    freq = occurances / len(raw_text)\n",
        "\n",
        "    print(f\"{repr(character)}: {freq:.4f}\")"
      ],
      "execution_count": null,
      "outputs": [
        {
          "output_type": "stream",
          "name": "stdout",
          "text": [
            "'\\n': 0.0221\n",
            "' ': 0.1473\n",
            "'!': 0.0016\n",
            "'\"': 0.0004\n",
            "\"'\": 0.0003\n",
            "'(': 0.0001\n",
            "')': 0.0001\n",
            "',': 0.0206\n",
            "'-': 0.0008\n",
            "'.': 0.0070\n",
            "':': 0.0002\n",
            "';': 0.0018\n",
            "'?': 0.0010\n",
            "'a': 0.0963\n",
            "'b': 0.0135\n",
            "'c': 0.0003\n",
            "'d': 0.0322\n",
            "'e': 0.0357\n",
            "'g': 0.0169\n",
            "'i': 0.1007\n",
            "'j': 0.0126\n",
            "'k': 0.0441\n",
            "'l': 0.0233\n",
            "'m': 0.0255\n",
            "'n': 0.0347\n",
            "'o': 0.0338\n",
            "'p': 0.0281\n",
            "'r': 0.0434\n",
            "'s': 0.0709\n",
            "'t': 0.0393\n",
            "'u': 0.0429\n",
            "'v': 0.0213\n",
            "'y': 0.0097\n",
            "'z': 0.0011\n",
            "'ą': 0.0066\n",
            "'č': 0.0035\n",
            "'ė': 0.0168\n",
            "'ę': 0.0037\n",
            "'į': 0.0041\n",
            "'š': 0.0136\n",
            "'ū': 0.0064\n",
            "'ų': 0.0073\n",
            "'ž': 0.0084\n"
          ]
        }
      ]
    },
    {
      "cell_type": "code",
      "metadata": {
        "id": "qr-6eyzbTvkx"
      },
      "source": [
        "def text_to_onehot(text):\n",
        "    onehot = np.zeros((len(text), len(char_to_int)))\n",
        "    for idx, character in enumerate(text):\n",
        "        onehot[idx, char_to_int[character]] = 1.0\n",
        "\n",
        "    return onehot\n",
        "\n",
        "def text_to_integer(text):\n",
        "    int_text = np.zeros((len(text),), dtype=np.int32)\n",
        "    for idx, character in enumerate(text):\n",
        "        int_text[idx] = char_to_int[character]\n",
        "\n",
        "    return int_text"
      ],
      "execution_count": null,
      "outputs": []
    },
    {
      "cell_type": "code",
      "metadata": {
        "id": "gpc3MMfbWwSE",
        "colab": {
          "base_uri": "https://localhost:8080/"
        },
        "outputId": "a1302831-195f-4147-88f6-ce732b08ec7a"
      },
      "source": [
        "sample_text = \"studentai \"\n",
        "\n",
        "for _ in range(256):\n",
        "    int_text = text_to_integer(sample_text)\n",
        "    int_text = int_text[np.newaxis]\n",
        "\n",
        "    predictions = model.predict(int_text)\n",
        "    next_character_probabilities = predictions[0, -1]\n",
        "    next_character = onehot_to_character(next_character_probabilities)\n",
        "\n",
        "    sample_text += next_character\n",
        "\n",
        "print(sample_text)"
      ],
      "execution_count": null,
      "outputs": [
        {
          "output_type": "stream",
          "name": "stdout",
          "text": [
            "studentai \n",
            "gėdėtis vis ir kaimynai su padėjimu dievo \n",
            "iš bėdos pasidaręs ant laukų pasirodė \n",
            "ir ponai kožnam vis pasirodė. \n",
            ",,kas tikt dievs vis ir kaimynai su pakulienė \n",
            "vis šlapjurgis su laukus bei patalą kopa. \n",
            "o paskui jisai mus ir kiaulių daug parduot ant audus\n"
          ]
        }
      ]
    },
    {
      "cell_type": "code",
      "metadata": {
        "colab": {
          "base_uri": "https://localhost:8080/"
        },
        "id": "xryN56_TXCt6",
        "outputId": "817e64bb-259b-4aa8-a8ad-99d15bd74bf5"
      },
      "source": [
        "rng = np.random.RandomState(0)\n",
        "\n",
        "sample_text = \"studentai \"\n",
        "\n",
        "for _ in range(256):\n",
        "    int_text = text_to_integer(sample_text)\n",
        "    int_text = int_text[np.newaxis]\n",
        "\n",
        "    predictions = model.predict(int_text)\n",
        "    next_character_probabilities = predictions[0, -1]\n",
        "    most_probable_indices = np.argsort(next_character_probabilities)[-5:][::-1]\n",
        "\n",
        "    most_probable_probabilities = next_character_probabilities[most_probable_indices]\n",
        "    most_probable_probabilities = most_probable_probabilities / np.sum(most_probable_probabilities)\n",
        "    next_character_position = rng.choice(most_probable_indices, p=most_probable_probabilities)\n",
        "    next_character = int_to_char[next_character_position]\n",
        "\n",
        "\n",
        "    #possible_values = list(range(43))\n",
        "    #next_character_position = rng.choice(possible_values, p=next_character_probabilities)\n",
        "    #next_character = int_to_char[next_character_position]\n",
        "\n",
        "    sample_text += next_character\n",
        "\n",
        "print(sample_text)"
      ],
      "execution_count": null,
      "outputs": [
        {
          "output_type": "stream",
          "name": "stdout",
          "text": [
            "studentai \n",
            "kad mes prasotais ubėda stopsodams \n",
            "ir su šaukdams dar mūsų būrus pastum savo namams \n",
            "irgi braugiaus savo vandi, kasdien ausis \n",
            "ir su ponu baisu mūs, gaidžiai prisiėdę \n",
            "ar kad sviets tarp jų tylom mūsų pakavot \n",
            "ir nesibastės pavasarį baikit, \n",
            "alt gaišinks\n"
          ]
        }
      ]
    }
  ]
}