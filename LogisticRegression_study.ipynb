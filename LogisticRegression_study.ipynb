{
  "nbformat": 4,
  "nbformat_minor": 0,
  "metadata": {
    "colab": {
      "provenance": [],
      "include_colab_link": true
    },
    "kernelspec": {
      "name": "python3",
      "display_name": "Python 3"
    }
  },
  "cells": [
    {
      "cell_type": "markdown",
      "metadata": {
        "id": "view-in-github",
        "colab_type": "text"
      },
      "source": [
        "<a href=\"https://colab.research.google.com/github/imPhacko/PublicProjects/blob/main/LogisticRegression_study.ipynb\" target=\"_parent\"><img src=\"https://colab.research.google.com/assets/colab-badge.svg\" alt=\"Open In Colab\"/></a>"
      ]
    },
    {
      "cell_type": "markdown",
      "metadata": {
        "id": "PmTTEM5r2NUj"
      },
      "source": [
        "# Logistic regression\n",
        "\n",
        "## Definition\n",
        "\n",
        "Models the probability of a sample belonging to category $y$ given the dependent variables $X=(1, x_1, x_2,... x_k)$\n",
        "\n",
        "We're working with categorical variables now, so we need a way to transform the line function we had for linear regression into a probabilistic estimate. The logistic (or more specifically - sigmoid) function can do that!\n",
        "\n",
        "$\\sigma(z)=\\dfrac{1}{1 + e^{-z}}$\n",
        "\n",
        "The probability of a sample $X$ belonging to a category can now be obtained:\n",
        "\n",
        "$\\hat{y} = \\sigma(\\theta^T X)$,"
      ]
    },
    {
      "cell_type": "code",
      "metadata": {
        "id": "8Vddr3W827LF",
        "colab": {
          "base_uri": "https://localhost:8080/",
          "height": 314
        },
        "outputId": "5f24561f-95a0-4b7a-b82d-d55fe64306ed"
      },
      "source": [
        "import numpy as np\n",
        "import matplotlib.pyplot as plt\n",
        "\n",
        "def sigmoid(z):\n",
        "  return 1.0 / (1 + np.exp(-z))\n",
        "\n",
        "z = np.linspace(-20, 20, num=100)\n",
        "\n",
        "plt.plot(z, sigmoid(z), color=\"red\")\n",
        "plt.title(\"Sigmoid function\")\n",
        "plt.xlabel(\"z\")\n",
        "plt.ylabel(\"sigmoid(z)\")\n",
        "plt.xlim([-10, 10])\n",
        "plt.ylim([0, 1])\n",
        "\n",
        "plt.axvline(0, ls=\"--\", color=\"black\")"
      ],
      "execution_count": null,
      "outputs": [
        {
          "output_type": "execute_result",
          "data": {
            "text/plain": [
              "<matplotlib.lines.Line2D at 0x7fa3d36ee2d0>"
            ]
          },
          "metadata": {},
          "execution_count": 8
        },
        {
          "output_type": "display_data",
          "data": {
            "image/png": "[encoded data removed]",
            "text/plain": [
              "<Figure size 432x288 with 1 Axes>"
            ]
          },
          "metadata": {
            "needs_background": "light"
          }
        }
      ]
    },
    {
      "cell_type": "markdown",
      "metadata": {
        "id": "WRKgNBFb3_P-"
      },
      "source": [
        "\n",
        "# Optimizing\n",
        "\n",
        "## Cross-entropy loss\n",
        "\n",
        "Used to characterise the differences between two probability distributions.\n",
        "\n",
        "Assume we have $n$ observations as vectors $X_1, X_2,... X_n$ and their corresponding outcomes $y_1, y_2, ..., y_n$.\n",
        "\n",
        "Our loss over the training set is the sum of the losses for each individual sample:\n",
        "\n",
        "$\\mathcal{L}=\\dfrac{1}{n}\\sum\\limits_{i=1}^n H(\\hat{y}_i, y_i)$\n",
        "\n",
        "If $y_i$ can be either 0 or 1 we can divide cross-entropy into two parts:\n",
        "\n",
        "$H(\\hat{y}_i, y_i)=\\begin{cases}\n",
        "   -\\log(\\hat{y}_i) & \\text{if } y_i = 1 \\\\\n",
        "   -\\log(1-\\hat{y}_i)       & \\text{if } y_i = 0\n",
        "  \\end{cases}$\n",
        "\n",
        "Or:\n",
        "\n",
        "$H(\\hat{y}_i, y_i)=-y_i \\log(\\hat{y}_i)-(1-y_i) \\log(1-\\hat{y}_i)$\n",
        "\n",
        "Let's quickly illustrate that minimizing such a loss function would produce a good classifier. That is: the bigger the mistake our model made, the higher our loss, and vice versa."
      ]
    },
    {
      "cell_type": "code",
      "metadata": {
        "id": "MybA57nt2gLU",
        "colab": {
          "base_uri": "https://localhost:8080/"
        },
        "outputId": "542a352f-b433-4cd6-ed13-b64edf3d8e6c"
      },
      "source": [
        "import numpy as np\n",
        "\n",
        "def cross_entropy(y_predicted, y_true):\n",
        "  return -y_true * np.log(y_predicted) - (1 - y_true) * np.log(1 - y_predicted)\n",
        "\n",
        "# What if our sample belongs to the 1st category and we're predicting that it does with a high probability (0.8)\n",
        "y_true = 1\n",
        "y_predicted = 0.8\n",
        "\n",
        "ce = cross_entropy(y_predicted, y_true)\n",
        "print(f\"cross entropy of {y_true} vs {y_predicted:.1f} = {ce:.4f}\")\n",
        "\n",
        "# What if our sample belongs to the 1st category, but we're predicting that it does with a low probability (0.2)\n",
        "y_true = 1\n",
        "y_predicted = 0.2\n",
        "\n",
        "ce = cross_entropy(y_predicted, y_true)\n",
        "print(f\"cross entropy of {y_true} vs {y_predicted:.1f} = {ce:.4f}\")\n",
        "\n",
        "# What if our sample doesn't belong to the 1st category and we're predicting that it does with a low probability (0.2)\n",
        "y_true = 0\n",
        "y_predicted = 0.2\n",
        "\n",
        "ce = cross_entropy(y_predicted, y_true)\n",
        "print(f\"cross entropy of {y_true} vs {y_predicted:.1f} = {ce:.4f}\")\n",
        "\n",
        "# What if our sample doesn't belong to the 1st category and we're predicting that it does with a low probability (0.2)\n",
        "y_true = 0\n",
        "y_predicted = 0.8\n",
        "\n",
        "ce = cross_entropy(y_predicted, y_true)\n",
        "print(f\"cross entropy of {y_true} vs {y_predicted:.1f} = {ce:.4f}\")"
      ],
      "execution_count": null,
      "outputs": [
        {
          "output_type": "stream",
          "name": "stdout",
          "text": [
            "cross entropy of 1 vs 0.8 = 0.2231\n",
            "cross entropy of 1 vs 0.2 = 1.6094\n",
            "cross entropy of 0 vs 0.2 = 0.2231\n",
            "cross entropy of 0 vs 0.8 = 1.6094\n"
          ]
        }
      ]
    },
    {
      "cell_type": "markdown",
      "metadata": {
        "id": "p25bgWZW2fYP"
      },
      "source": [
        "## Optimizing\n",
        "\n",
        "We should be able to minimize $\\mathcal{L}$ by setting the loss function's derivative w.r.t $\\theta$ to 0 as before:\n",
        "\n",
        "$\\dfrac{\\partial }{\\partial \\theta_j} \\mathcal{L}(\\theta)=0$\n",
        "\n",
        "But this time we're in trouble, there is no closed-form solution!\n",
        "\n",
        "\n",
        "# Gradient descent\n",
        "\n",
        "Things aren't too bad, we **can** calculate the gradient at least, as cross-entropy is differentiable! Iterative optimization is an option. We can take small steps down the slope of our loss function, which should lead us towards the minimum. Repeat this parameter update a whole bunch of times and you're bound to get somewhere:\n",
        "\n",
        "$\\theta_j \\leftarrow \\theta_j - \\alpha \\dfrac{\\partial }{\\partial \\theta_j} \\mathcal{L}(\\theta)$\n",
        "\n",
        "You only need the ability to calculate the gradient of your loss function w.r.t your parameters and this method (usually) works!"
      ]
    },
    {
      "cell_type": "code",
      "metadata": {
        "id": "DW65m4KB72Hu",
        "colab": {
          "base_uri": "https://localhost:8080/",
          "height": 314
        },
        "outputId": "601a073e-502b-493b-c02d-4a16901215f7"
      },
      "source": [
        "import pandas as pd\n",
        "import matplotlib.pyplot as plt\n",
        "import numpy as np\n",
        "\n",
        "\n",
        "data = pd.read_csv(\"/content/drive/My Drive/datasets/wine.csv\")\n",
        "\n",
        "wine1 = data[data[\"Wine\"] == 1]\n",
        "wine2 = data[data[\"Wine\"] == 2]\n",
        "\n",
        "plt.scatter(wine1[\"Alcohol\"], wine1[\"Hue\"], label=\"Wine 1\")\n",
        "plt.scatter(wine2[\"Alcohol\"], wine2[\"Hue\"], label=\"Wine 2\")\n",
        "plt.title(\"Two types of wine\")\n",
        "plt.xlim([11, 15])\n",
        "plt.ylim([0.6, 1.7])\n",
        "plt.xlabel(\"Alcohol\")\n",
        "plt.ylabel(\"Hue\")\n",
        "plt.legend()"
      ],
      "execution_count": null,
      "outputs": [
        {
          "output_type": "execute_result",
          "data": {
            "text/plain": [
              "<matplotlib.legend.Legend at 0x7fa3d3692790>"
            ]
          },
          "metadata": {},
          "execution_count": 10
        },
        {
          "output_type": "display_data",
          "data": {
            "image/png": "[encoded data removed]",
            "text/plain": [
              "<Figure size 432x288 with 1 Axes>"
            ]
          },
          "metadata": {
            "needs_background": "light"
          }
        }
      ]
    },
    {
      "cell_type": "code",
      "metadata": {
        "id": "IzCZyYSt8IHA",
        "colab": {
          "base_uri": "https://localhost:8080/"
        },
        "outputId": "ad0ec52e-ab82-42be-a554-08a14494f090"
      },
      "source": [
        "# Let's convert these tables to something that could be fed to our model\n",
        "# What we're looking for is an array with our dependent variables (bias, Alcohol and Hue)\n",
        "# And an array with our expected predictions (either 0 or 1) indicating which category out\n",
        "# of the 2 the wine belongs to\n",
        "\n",
        "total_samples = len(wine1) + len(wine2)\n",
        "X_train = np.ones((total_samples, 2), dtype=np.float32) # First column for Alcohol and second for Hue\n",
        "X_train[:len(wine1)] = wine1[[\"Alcohol\", \"Hue\"]].to_numpy()\n",
        "X_train[len(wine1):] = wine2[[\"Alcohol\", \"Hue\"]].to_numpy()\n",
        "\n",
        "y_train = np.zeros((total_samples, 1), dtype=np.float32) # Just one column which will be either 0 or 1\n",
        "y_train[len(wine1):] = 1\n",
        "\n",
        "print(f\"X_train shape: {X_train.shape}, y_train shape: {y_train.shape}\")"
      ],
      "execution_count": null,
      "outputs": [
        {
          "output_type": "stream",
          "name": "stdout",
          "text": [
            "X_train shape: (130, 2), y_train shape: (130, 1)\n"
          ]
        }
      ]
    },
    {
      "cell_type": "code",
      "source": [
        "import pandas as pd\n",
        "import matplotlib.pyplot as plt\n",
        "import tensorflow as tf\n",
        "import numpy as np\n",
        "from tqdm import tqdm"
      ],
      "metadata": {
        "id": "GXeJPgP4BqzR"
      },
      "execution_count": null,
      "outputs": []
    },
    {
      "cell_type": "code",
      "source": [
        "@tf.function\n",
        "def loss(y_true, y_pred):\n",
        "    cross_entropy = -y_true*tf.math.log(y_pred) - (1 - y_true)*tf.math.log(1 - y_pred)\n",
        "    return tf.reduce_mean(cross_entropy)\n",
        "\n",
        "class LogisticModel:\n",
        "    def __init__(self):\n",
        "        self.W = tf.Variable(tf.zeros([2, 1]))\n",
        "        self.b = tf.Variable(tf.zeros([1]))\n",
        "\n",
        "        self.trainable_variables = [self.W, self.b]\n",
        "\n",
        "    @tf.function\n",
        "    def forward(self, X):\n",
        "        line_prediction = tf.matmul(X, self.W) + self.b\n",
        "        prob_prediction = tf.nn.sigmoid(line_prediction)\n",
        "        return prob_prediction\n",
        "\n",
        "    @tf.function\n",
        "    def backward(self, X, y):\n",
        "        optimizer = tf.compat.v1.train.GradientDescentOptimizer(learning_rate=0.05)\n",
        "        with tf.GradientTape() as tape:\n",
        "            y_pred = self.forward(X)\n",
        "            current_loss = loss(y, y_pred)\n",
        "        gradients = tape.gradient(current_loss, self.trainable_variables)\n",
        "        optimizer.apply_gradients(zip(gradients, self.trainable_variables))"
      ],
      "metadata": {
        "id": "frrlgEX7Bn31"
      },
      "execution_count": null,
      "outputs": []
    },
    {
      "cell_type": "code",
      "source": [
        "model = LogisticModel()\n",
        "\n",
        "for i in range(5000):\n",
        "    model.backward(X_train, y_train)\n",
        "\n",
        "prob_predictions = model.forward(X_train)\n",
        "\n",
        "category_prediction = tf.math.round(prob_predictions)\n",
        "category_prediction = tf.cast(category_prediction, tf.int32)\n",
        "y_category = tf.cast(y_train, tf.int32)\n",
        "correct_prediction = tf.equal(category_prediction, y_category)\n",
        "accuracy = tf.reduce_mean(tf.cast(correct_prediction, tf.float32))\n",
        "print(accuracy)"
      ],
      "metadata": {
        "colab": {
          "base_uri": "https://localhost:8080/"
        },
        "id": "zmsXtwKUBwb6",
        "outputId": "712537d7-c475-41e8-9aaa-bcfd1a7dd1ba"
      },
      "execution_count": null,
      "outputs": [
        {
          "output_type": "stream",
          "name": "stdout",
          "text": [
            "tf.Tensor(0.9076923, shape=(), dtype=float32)\n"
          ]
        }
      ]
    },
    {
      "cell_type": "code",
      "metadata": {
        "id": "H7Vrbu262Pw3"
      },
      "source": [
        "# Create a dense probability map of the Alcohol-Hue space\n",
        "xx, yy = np.mgrid[10:16:0.01, 0:2:0.01]\n",
        "grid = np.c_[xx.ravel(), yy.ravel()].astype(np.float32)\n",
        "\n",
        "probs = model.forward(grid).numpy().T.reshape(xx.shape)"
      ],
      "execution_count": null,
      "outputs": []
    },
    {
      "cell_type": "code",
      "metadata": {
        "id": "281eze14Et7U",
        "colab": {
          "base_uri": "https://localhost:8080/",
          "height": 314
        },
        "outputId": "4d9d88f3-69d1-4fca-d708-5ae2cb41c8c7"
      },
      "source": [
        "contour = plt.contourf(xx, yy, probs, 25, cmap=\"gray\", vmin=0, vmax=1)\n",
        "\n",
        "x_vals = [-100, 100]\n",
        "y_vals = -(x_vals * model.W[0] + model.b[0])/model.W[1]\n",
        "\n",
        "plt.plot(x_vals, y_vals, '--', c=\"red\")\n",
        "plt.scatter(wine1[\"Alcohol\"], wine1[\"Hue\"], label=\"Wine 1\")\n",
        "plt.scatter(wine2[\"Alcohol\"], wine2[\"Hue\"], label=\"Wine 2\")\n",
        "plt.title(\"Two types of wine\")\n",
        "plt.xlim([11, 15])\n",
        "plt.ylim([0.6, 1.7])\n",
        "plt.xlabel(\"Alcohol\")\n",
        "plt.ylabel(\"Hue\")\n",
        "plt.legend()"
      ],
      "execution_count": null,
      "outputs": [
        {
          "output_type": "execute_result",
          "data": {
            "text/plain": [
              "<matplotlib.legend.Legend at 0x7fa3cefd7990>"
            ]
          },
          "metadata": {},
          "execution_count": 86
        },
        {
          "output_type": "display_data",
          "data": {
            "image/png": "[encoded data removed]",
            "text/plain": [
              "<Figure size 432x288 with 1 Axes>"
            ]
          },
          "metadata": {
            "needs_background": "light"
          }
        }
      ]
    },
    {
      "cell_type": "code",
      "metadata": {
        "id": "6ll2LoTKc0nF"
      },
      "source": [],
      "execution_count": null,
      "outputs": []
    }
  ]
}